{
 "cells": [
  {
   "cell_type": "markdown",
   "id": "0c6fb944",
   "metadata": {},
   "source": [
    "# Carregando Pacotes"
   ]
  },
  {
   "cell_type": "code",
   "execution_count": 1,
   "id": "05a255f4",
   "metadata": {},
   "outputs": [],
   "source": [
    "from transformers import pipeline\n",
    "import torch\n",
    "import pdfplumber\n",
    "from transformers import AutoTokenizer\n",
    "\n",
    "from sentence_transformers import SentenceTransformer\n",
    "import numpy as np"
   ]
  },
  {
   "cell_type": "code",
   "execution_count": 2,
   "id": "290d7430",
   "metadata": {},
   "outputs": [
    {
     "name": "stdout",
     "output_type": "stream",
     "text": [
      "🔧 Rodando em: GPU\n"
     ]
    }
   ],
   "source": [
    "# Verifica e configura o dispositivo (GPU/CPU)\n",
    "device = 0 if torch.cuda.is_available() else -1  # 0 = GPU, -1 = CPU\n",
    "print(f\"🔧 Rodando em: {'GPU' if device == 0 else 'CPU'}\")"
   ]
  },
  {
   "cell_type": "markdown",
   "id": "34385a2a",
   "metadata": {},
   "source": [
    "# Tokenização do Texto"
   ]
  },
  {
   "cell_type": "code",
   "execution_count": 7,
   "id": "12abff51",
   "metadata": {},
   "outputs": [
    {
     "ename": "NameError",
     "evalue": "name 'divisao_do_texto' is not defined",
     "output_type": "error",
     "traceback": [
      "\u001b[31m---------------------------------------------------------------------------\u001b[39m",
      "\u001b[31mNameError\u001b[39m                                 Traceback (most recent call last)",
      "\u001b[36mCell\u001b[39m\u001b[36m \u001b[39m\u001b[32mIn[7]\u001b[39m\u001b[32m, line 5\u001b[39m\n\u001b[32m      2\u001b[39m modelo_embed = SentenceTransformer(\u001b[33m\"\u001b[39m\u001b[33mall-MiniLM-L6-v2\u001b[39m\u001b[33m\"\u001b[39m, device=\u001b[33m\"\u001b[39m\u001b[33mcuda\u001b[39m\u001b[33m\"\u001b[39m \u001b[38;5;28;01mif\u001b[39;00m device == \u001b[32m0\u001b[39m \u001b[38;5;28;01melse\u001b[39;00m \u001b[33m\"\u001b[39m\u001b[33mcpu\u001b[39m\u001b[33m\"\u001b[39m)\n\u001b[32m      4\u001b[39m \u001b[38;5;66;03m# 2. Vetoriza os chunks (use sua variável 'divisao_do_texto')\u001b[39;00m\n\u001b[32m----> \u001b[39m\u001b[32m5\u001b[39m chunks_embeddings = modelo_embed.encode(\u001b[43mdivisao_do_texto\u001b[49m)\n\u001b[32m      7\u001b[39m \u001b[38;5;66;03m# 3. Modelo Generativo (FLAN-T5 base - leve para CPU)\u001b[39;00m\n\u001b[32m      8\u001b[39m gerador = pipeline(\n\u001b[32m      9\u001b[39m     \u001b[33m\"\u001b[39m\u001b[33mtext2text-generation\u001b[39m\u001b[33m\"\u001b[39m,\n\u001b[32m     10\u001b[39m     model=\u001b[33m\"\u001b[39m\u001b[33mgoogle/flan-t5-base\u001b[39m\u001b[33m\"\u001b[39m,\n\u001b[32m     11\u001b[39m     device=device\n\u001b[32m     12\u001b[39m )\n",
      "\u001b[31mNameError\u001b[39m: name 'divisao_do_texto' is not defined"
     ]
    }
   ],
   "source": [
    "# 1. Modelo de Embeddings (CPU/GPU)\n",
    "modelo_embed = SentenceTransformer(\"all-MiniLM-L6-v2\", device=\"cuda\" if device == 0 else \"cpu\")\n",
    "\n",
    "# 2. Vetoriza os chunks (use sua variável 'divisao_do_texto')\n",
    "chunks_embeddings = modelo_embed.encode(divisao_do_texto)\n",
    "\n",
    "# 3. Modelo Generativo (FLAN-T5 base - leve para CPU)\n",
    "gerador = pipeline(\n",
    "    \"text2text-generation\",\n",
    "    model=\"google/flan-t5-base\",\n",
    "    device=device\n",
    ")"
   ]
  },
  {
   "cell_type": "markdown",
   "id": "f5f1b043",
   "metadata": {},
   "source": [
    "# Tratamento do Documento"
   ]
  },
  {
   "cell_type": "code",
   "execution_count": null,
   "id": "286ebfc3",
   "metadata": {},
   "outputs": [],
   "source": [
    "def carregar_documento(caminho_do_pdf):\n",
    "\n",
    "    with pdfplumber.open(caminho_do_pdf) as pdf:\n",
    "        texto = \" \".join(\n",
    "            page.extract_text() for page in pdf.pages \n",
    "            if page.extract_text()  # Ignora páginas sem texto\n",
    "        )\n",
    "        texto = \" \".join(texto.split())  # Normaliza espaços\n",
    "    return texto"
   ]
  },
  {
   "cell_type": "markdown",
   "id": "7e67c08d",
   "metadata": {},
   "source": [
    "## Divisao em Chunks"
   ]
  },
  {
   "cell_type": "code",
   "execution_count": 4,
   "id": "2e7c80b2",
   "metadata": {},
   "outputs": [],
   "source": [
    "def dividir_em_chunks_tokenizados(texto):\n",
    "\n",
    "    tokens = tokenizer.tokenize(texto)\n",
    "    chunks = []\n",
    "    for i in range(0, len(tokens), chunk_size - overlap):\n",
    "        chunk = tokens[i:i + chunk_size]\n",
    "        chunks.append(tokenizer.convert_tokens_to_string(chunk))\n",
    "    return chunks"
   ]
  },
  {
   "cell_type": "markdown",
   "id": "d71b9cdc",
   "metadata": {},
   "source": [
    "## Janela Deslizante"
   ]
  },
  {
   "cell_type": "code",
   "execution_count": 5,
   "id": "c4113e50",
   "metadata": {},
   "outputs": [],
   "source": [
    "def sliding_window_tokenizados(texto):\n",
    "    tokens = tokenizer.tokenize(texto)\n",
    "    janelas = []\n",
    "    \n",
    "    for i in range(0, len(tokens), stride):\n",
    "        janela = tokens[i:i + window_size]\n",
    "        texto_janela = tokenizer.convert_tokens_to_string(janela)\n",
    "        janelas.append(texto_janela)\n",
    "        \n",
    "        # Para se chegarmos ao final do texto\n",
    "        if i + window_size >= len(tokens):\n",
    "            break\n",
    "    \n",
    "    return janelas"
   ]
  },
  {
   "cell_type": "markdown",
   "id": "cc972ced",
   "metadata": {},
   "source": [
    "## Selecionar Divisão do Texto"
   ]
  },
  {
   "cell_type": "code",
   "execution_count": 6,
   "id": "03a208a3",
   "metadata": {},
   "outputs": [
    {
     "ename": "NameError",
     "evalue": "name 'documento' is not defined",
     "output_type": "error",
     "traceback": [
      "\u001b[31m---------------------------------------------------------------------------\u001b[39m",
      "\u001b[31mNameError\u001b[39m                                 Traceback (most recent call last)",
      "\u001b[36mCell\u001b[39m\u001b[36m \u001b[39m\u001b[32mIn[6]\u001b[39m\u001b[32m, line 3\u001b[39m\n\u001b[32m      1\u001b[39m \u001b[38;5;66;03m#Divisao em Janela Deslizante\u001b[39;00m\n\u001b[32m----> \u001b[39m\u001b[32m3\u001b[39m divisao_do_texto = sliding_window_tokenizados(\u001b[43mdocumento\u001b[49m)\n\u001b[32m      5\u001b[39m \u001b[38;5;66;03m#Divisao em Chunks\u001b[39;00m\n\u001b[32m      6\u001b[39m \n\u001b[32m      7\u001b[39m \u001b[38;5;66;03m#divisao_do_texto = dividir_em_chunks_tokenizados(documento)\u001b[39;00m\n",
      "\u001b[31mNameError\u001b[39m: name 'documento' is not defined"
     ]
    }
   ],
   "source": [
    "#Divisao em Janela Deslizante\n",
    "\n",
    "divisao_do_texto = sliding_window_tokenizados(documento)\n",
    "\n",
    "#Divisao em Chunks\n",
    "\n",
    "#divisao_do_texto = dividir_em_chunks_tokenizados(documento)"
   ]
  },
  {
   "cell_type": "markdown",
   "id": "ae3f30a0",
   "metadata": {},
   "source": [
    "# Implementação do RAG"
   ]
  },
  {
   "cell_type": "code",
   "execution_count": 8,
   "id": "e2c5e065",
   "metadata": {},
   "outputs": [],
   "source": [
    "def buscar_chunks_semanticos(pergunta, chunks, chunks_embeddings, top_k=3):\n",
    "    \"\"\"Encontra os chunks mais relevantes usando similaridade semântica.\"\"\"\n",
    "    pergunta_embed = modelo_embed.encode(pergunta)\n",
    "    similaridades = np.dot(pergunta_embed, chunks_embeddings.T)\n",
    "    top_indices = np.argsort(similaridades)[-top_k:][::-1]  # Pega os top-K mais relevantes\n",
    "    return [chunks[i] for i in top_indices]\n",
    "\n"
   ]
  },
  {
   "cell_type": "code",
   "execution_count": 9,
   "id": "9c0baf4f",
   "metadata": {},
   "outputs": [],
   "source": [
    "def gerar_resposta_rag(pergunta, chunks_relevantes):\n",
    "    \"\"\"Gera uma resposta natural com base nos chunks encontrados.\"\"\"\n",
    "    contexto = \" \".join(chunks_relevantes)\n",
    "    prompt = f\"\"\"\n",
    "    Com base no contexto abaixo, responda de forma clara e concisa:\n",
    "    Contexto: {contexto}\n",
    "    Pergunta: {pergunta}\n",
    "    Resposta:\n",
    "    \"\"\"\n",
    "    resposta = gerador(prompt, max_length=150)\n",
    "    return resposta[0]['generated_text']"
   ]
  }
 ],
 "metadata": {
  "kernelspec": {
   "display_name": "venv_rocm",
   "language": "python",
   "name": "python3"
  },
  "language_info": {
   "codemirror_mode": {
    "name": "ipython",
    "version": 3
   },
   "file_extension": ".py",
   "mimetype": "text/x-python",
   "name": "python",
   "nbconvert_exporter": "python",
   "pygments_lexer": "ipython3",
   "version": "3.12.3"
  }
 },
 "nbformat": 4,
 "nbformat_minor": 5
}
