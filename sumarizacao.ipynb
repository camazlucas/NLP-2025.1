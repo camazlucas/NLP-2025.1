{
 "cells": [
  {
   "cell_type": "markdown",
   "id": "90df4931",
   "metadata": {},
   "source": [
    "Extrair texto do PDF\n",
    "\n",
    "Biblioteca: PyPDF2 (para PDFs simples) ou pdfplumber (melhor para tabelas/formatações).\n",
    "\n",
    "Código mínimo:"
   ]
  },
  {
   "cell_type": "code",
   "execution_count": null,
   "id": "38ad44c7",
   "metadata": {},
   "outputs": [],
   "source": [
    "import pdfplumber\n",
    "with pdfplumber.open(\"arquivo.pdf\") as pdf:\n",
    "    text = \" \".join([page.extract_text() for page in pdf.pages])"
   ]
  },
  {
   "cell_type": "markdown",
   "id": "bb2397be",
   "metadata": {},
   "source": [
    "Pré-processamento do texto\n",
    "\n",
    "Limpeza: Remover quebras de linha múltiplas, caracteres especiais, headers/footers.\n",
    "\n",
    "Divisão: Separar o texto em sentenças (usando nltk ou spaCy).\n",
    "\n",
    "Exemplo:"
   ]
  },
  {
   "cell_type": "code",
   "execution_count": null,
   "id": "491ef63c",
   "metadata": {},
   "outputs": [],
   "source": [
    "import re\n",
    "text = re.sub(r'\\s+', ' ', text)  # Normaliza espaços"
   ]
  },
  {
   "cell_type": "code",
   "execution_count": null,
   "id": "c197b89d",
   "metadata": {},
   "outputs": [],
   "source": [
    "print(text[:1000])  # Mostra os primeiros 1000 caracteres"
   ]
  },
  {
   "cell_type": "markdown",
   "id": "0b4368ef",
   "metadata": {},
   "source": [
    "Sumarização\n",
    "\n",
    "Abordagem 1 (Extrativa - mais fácil):\n",
    "\n",
    "Selecionar as sentenças mais importantes com base em frequência de palavras (TF-IDF) ou embeddings (BERT).\n",
    "\n",
    "Biblioteca: sklearn para TF-IDF ou sentence-transformers (ex.: all-MiniLM-L6-v2 para embeddings).\n",
    "\n",
    "Exemplo com TF-IDF:"
   ]
  },
  {
   "cell_type": "code",
   "execution_count": null,
   "id": "2fcd3cc5",
   "metadata": {},
   "outputs": [],
   "source": [
    "import nltk\n",
    "nltk.download('punkt')\n",
    "nltk.download('punkt_tab')"
   ]
  },
  {
   "cell_type": "markdown",
   "id": "7c7cd4fc",
   "metadata": {},
   "source": [
    "Tentativa de Limpar o Texto"
   ]
  },
  {
   "cell_type": "code",
   "execution_count": null,
   "id": "eab5b0e5",
   "metadata": {},
   "outputs": [],
   "source": [
    "import re\n",
    "\n",
    "# Remove múltiplos espaços/quebras de linha\n",
    "text_clean = re.sub(r'\\s+', ' ', text).strip()"
   ]
  },
  {
   "cell_type": "markdown",
   "id": "e0d6606e",
   "metadata": {},
   "source": [
    "Importanto Pacotes do Tokenize"
   ]
  },
  {
   "cell_type": "code",
   "execution_count": null,
   "id": "1955898a",
   "metadata": {},
   "outputs": [],
   "source": [
    "from sklearn.feature_extraction.text import TfidfVectorizer\n",
    "from nltk.tokenize import sent_tokenize\n",
    "# Seleciona as sentenças com maior pontuação média de TF-IDF"
   ]
  },
  {
   "cell_type": "code",
   "execution_count": null,
   "id": "b63c0a42",
   "metadata": {},
   "outputs": [],
   "source": [
    "sentences = sent_tokenize(text_clean)"
   ]
  },
  {
   "cell_type": "code",
   "execution_count": null,
   "id": "456c389c",
   "metadata": {},
   "outputs": [],
   "source": [
    "vectorizer = TfidfVectorizer()"
   ]
  },
  {
   "cell_type": "code",
   "execution_count": null,
   "id": "9e45ad62",
   "metadata": {},
   "outputs": [],
   "source": [
    "X = vectorizer.fit_transform(sentences)"
   ]
  },
  {
   "cell_type": "markdown",
   "id": "bbff3203",
   "metadata": {},
   "source": [
    "Abordagem 2 (Abstrativa - mais avançada):\n",
    "\n",
    "Usar modelos pré-treinados como BERTimbau (para português) ou T5-small (ex.: unicamp-dl/ptt5-base-summarization-portuguese-vocab).\n",
    "\n",
    "Exemplo com Hugging Face:"
   ]
  },
  {
   "cell_type": "code",
   "execution_count": null,
   "id": "a19ebbc9",
   "metadata": {},
   "outputs": [],
   "source": [
    "from transformers import pipeline"
   ]
  },
  {
   "cell_type": "code",
   "execution_count": null,
   "id": "5b796aea",
   "metadata": {},
   "outputs": [],
   "source": [
    "summarizer = pipeline(\"summarization\", model=\"facebook/bart-large-cnn\")"
   ]
  },
  {
   "cell_type": "code",
   "execution_count": null,
   "id": "9e5de50b",
   "metadata": {},
   "outputs": [],
   "source": [
    "summary = summarizer(text_clean, max_length=150, min_length=30, truncation=True)  # Ative o truncamento"
   ]
  },
  {
   "cell_type": "code",
   "execution_count": null,
   "id": "69133290",
   "metadata": {},
   "outputs": [],
   "source": [
    "print(\"Resumo:\")\n",
    "print(summary[0]['summary_text'])"
   ]
  }
 ],
 "metadata": {
  "kernelspec": {
   "display_name": "Python 3",
   "language": "python",
   "name": "python3"
  },
  "language_info": {
   "codemirror_mode": {
    "name": "ipython",
    "version": 3
   },
   "file_extension": ".py",
   "mimetype": "text/x-python",
   "name": "python",
   "nbconvert_exporter": "python",
   "pygments_lexer": "ipython3",
   "version": "3.13.1"
  }
 },
 "nbformat": 4,
 "nbformat_minor": 5
}
