{
 "cells": [
  {
   "cell_type": "markdown",
   "id": "90df4931",
   "metadata": {},
   "source": [
    "Extrair texto do PDF\n",
    "\n",
    "Biblioteca: PyPDF2 (para PDFs simples) ou pdfplumber (melhor para tabelas/formatações).\n",
    "\n",
    "Código mínimo:"
   ]
  },
  {
   "cell_type": "code",
   "execution_count": 1,
   "id": "38ad44c7",
   "metadata": {},
   "outputs": [
    {
     "name": "stderr",
     "output_type": "stream",
     "text": [
      "CropBox missing from /Page, defaulting to MediaBox\n",
      "CropBox missing from /Page, defaulting to MediaBox\n"
     ]
    }
   ],
   "source": [
    "import pdfplumber\n",
    "with pdfplumber.open(\"arquivo.pdf\") as pdf:\n",
    "    text = \" \".join([page.extract_text() for page in pdf.pages])"
   ]
  },
  {
   "cell_type": "markdown",
   "id": "bb2397be",
   "metadata": {},
   "source": [
    "Pré-processamento do texto\n",
    "\n",
    "Limpeza: Remover quebras de linha múltiplas, caracteres especiais, headers/footers.\n",
    "\n",
    "Divisão: Separar o texto em sentenças (usando nltk ou spaCy).\n",
    "\n",
    "Exemplo:"
   ]
  },
  {
   "cell_type": "code",
   "execution_count": 2,
   "id": "491ef63c",
   "metadata": {},
   "outputs": [],
   "source": [
    "import re\n",
    "text = re.sub(r'\\s+', ' ', text)  # Normaliza espaços"
   ]
  },
  {
   "cell_type": "code",
   "execution_count": 3,
   "id": "c197b89d",
   "metadata": {},
   "outputs": [
    {
     "name": "stdout",
     "output_type": "stream",
     "text": [
      "Text Sample: Energy Transition Title: Global Shift to Renewable Energy Gains Momentum \"The global energy landscape is undergoing a radical transformation as countries accelerate their transition from fossil fuels to renewable sources. According to the International Energy Agency (IEA), renewable energy capacity grew by 40% in 2023, with solar and wind accounting for over 80% of new installations. This shift is driven by three key factors: Climate Commitments: Over 130 nations have now pledged net-zero emissions by 2050 under the Paris Agreement. Economic Viability: Solar energy costs have dropped by 90% since 2010, making it cheaper than coal in most regions. Policy Support: The U.S. Inflation Reduction Act and EU Green Deal are injecting $1 trillion into clean energy projects. However, challenges remain. Grid infrastructure requires massive upgrades to handle intermittent renewable sources, and developing nations still lack funding for large-scale transitions. Experts emphasize that p\n"
     ]
    }
   ],
   "source": [
    "print(text[:1000])  # Mostra os primeiros 1000 caracteres"
   ]
  },
  {
   "cell_type": "markdown",
   "id": "0b4368ef",
   "metadata": {},
   "source": [
    "Sumarização\n",
    "\n",
    "Abordagem 1 (Extrativa - mais fácil):\n",
    "\n",
    "Selecionar as sentenças mais importantes com base em frequência de palavras (TF-IDF) ou embeddings (BERT).\n",
    "\n",
    "Biblioteca: sklearn para TF-IDF ou sentence-transformers (ex.: all-MiniLM-L6-v2 para embeddings).\n",
    "\n",
    "Exemplo com TF-IDF:"
   ]
  },
  {
   "cell_type": "code",
   "execution_count": 4,
   "id": "2fcd3cc5",
   "metadata": {},
   "outputs": [
    {
     "name": "stderr",
     "output_type": "stream",
     "text": [
      "[nltk_data] Downloading package punkt to\n",
      "[nltk_data]     C:\\Users\\lucas\\AppData\\Roaming\\nltk_data...\n",
      "[nltk_data]   Package punkt is already up-to-date!\n",
      "[nltk_data] Downloading package punkt_tab to\n",
      "[nltk_data]     C:\\Users\\lucas\\AppData\\Roaming\\nltk_data...\n",
      "[nltk_data]   Package punkt_tab is already up-to-date!\n"
     ]
    },
    {
     "data": {
      "text/plain": [
       "True"
      ]
     },
     "execution_count": 4,
     "metadata": {},
     "output_type": "execute_result"
    }
   ],
   "source": [
    "import nltk\n",
    "nltk.download('punkt')\n",
    "nltk.download('punkt_tab')"
   ]
  },
  {
   "cell_type": "markdown",
   "id": "7c7cd4fc",
   "metadata": {},
   "source": [
    "Tentativa de Limpar o Texto"
   ]
  },
  {
   "cell_type": "code",
   "execution_count": 5,
   "id": "eab5b0e5",
   "metadata": {},
   "outputs": [],
   "source": [
    "import re\n",
    "\n",
    "# Remove múltiplos espaços/quebras de linha\n",
    "text_clean = re.sub(r'\\s+', ' ', text).strip()"
   ]
  },
  {
   "cell_type": "markdown",
   "id": "e0d6606e",
   "metadata": {},
   "source": [
    "Importanto Pacotes do Tokenize"
   ]
  },
  {
   "cell_type": "code",
   "execution_count": 6,
   "id": "1955898a",
   "metadata": {},
   "outputs": [],
   "source": [
    "from sklearn.feature_extraction.text import TfidfVectorizer\n",
    "from nltk.tokenize import sent_tokenize\n",
    "# Seleciona as sentenças com maior pontuação média de TF-IDF"
   ]
  },
  {
   "cell_type": "code",
   "execution_count": 7,
   "id": "b63c0a42",
   "metadata": {},
   "outputs": [],
   "source": [
    "sentences = sent_tokenize(text_clean)"
   ]
  },
  {
   "cell_type": "code",
   "execution_count": 8,
   "id": "456c389c",
   "metadata": {},
   "outputs": [],
   "source": [
    "vectorizer = TfidfVectorizer()"
   ]
  },
  {
   "cell_type": "code",
   "execution_count": 9,
   "id": "9e45ad62",
   "metadata": {},
   "outputs": [],
   "source": [
    "X = vectorizer.fit_transform(sentences)"
   ]
  },
  {
   "cell_type": "markdown",
   "id": "bbff3203",
   "metadata": {},
   "source": [
    "Abordagem 2 (Abstrativa - mais avançada):\n",
    "\n",
    "Usar modelos pré-treinados como BERTimbau (para português) ou T5-small (ex.: unicamp-dl/ptt5-base-summarization-portuguese-vocab).\n",
    "\n",
    "Exemplo com Hugging Face:"
   ]
  },
  {
   "cell_type": "code",
   "execution_count": 10,
   "id": "a19ebbc9",
   "metadata": {},
   "outputs": [
    {
     "name": "stderr",
     "output_type": "stream",
     "text": [
      "c:\\Users\\lucas\\AppData\\Local\\Programs\\Python\\Python313\\Lib\\site-packages\\tqdm\\auto.py:21: TqdmWarning: IProgress not found. Please update jupyter and ipywidgets. See https://ipywidgets.readthedocs.io/en/stable/user_install.html\n",
      "  from .autonotebook import tqdm as notebook_tqdm\n"
     ]
    }
   ],
   "source": [
    "from transformers import pipeline"
   ]
  },
  {
   "cell_type": "code",
   "execution_count": 11,
   "id": "5b796aea",
   "metadata": {},
   "outputs": [
    {
     "name": "stderr",
     "output_type": "stream",
     "text": [
      "Device set to use cpu\n"
     ]
    }
   ],
   "source": [
    "summarizer = pipeline(\"summarization\", model=\"facebook/bart-large-cnn\")"
   ]
  },
  {
   "cell_type": "code",
   "execution_count": 12,
   "id": "9e5de50b",
   "metadata": {},
   "outputs": [
    {
     "name": "stderr",
     "output_type": "stream",
     "text": [
      "Asking to truncate to max_length but no maximum length is provided and the model has no predefined maximum length. Default to no truncation.\n"
     ]
    }
   ],
   "source": [
    "summary = summarizer(text_clean, max_length=150, min_length=30, truncation=True)  # Ative o truncamento"
   ]
  },
  {
   "cell_type": "code",
   "execution_count": 13,
   "id": "69133290",
   "metadata": {},
   "outputs": [
    {
     "name": "stdout",
     "output_type": "stream",
     "text": [
      "Resumo:\n",
      "Renewable energy capacity grew by 40% in 2023, with solar and wind accounting for over 80% of new installations. Over 130 nations have now pledged net-zero emissions by 2050 under the Paris Agreement. Solar energy costs have dropped by 90% since 2010, making it cheaper than coal in most regions.\n"
     ]
    }
   ],
   "source": [
    "print(\"Resumo:\")\n",
    "print(summary[0]['summary_text'])"
   ]
  }
 ],
 "metadata": {
  "kernelspec": {
   "display_name": "Python 3",
   "language": "python",
   "name": "python3"
  },
  "language_info": {
   "codemirror_mode": {
    "name": "ipython",
    "version": 3
   },
   "file_extension": ".py",
   "mimetype": "text/x-python",
   "name": "python",
   "nbconvert_exporter": "python",
   "pygments_lexer": "ipython3",
   "version": "3.13.1"
  }
 },
 "nbformat": 4,
 "nbformat_minor": 5
}
