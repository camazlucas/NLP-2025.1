{
 "cells": [
  {
   "cell_type": "code",
   "execution_count": 1,
   "id": "f91517be",
   "metadata": {},
   "outputs": [
    {
     "name": "stderr",
     "output_type": "stream",
     "text": [
      "c:\\Users\\lucas\\AppData\\Local\\Programs\\Python\\Python313\\Lib\\site-packages\\tqdm\\auto.py:21: TqdmWarning: IProgress not found. Please update jupyter and ipywidgets. See https://ipywidgets.readthedocs.io/en/stable/user_install.html\n",
      "  from .autonotebook import tqdm as notebook_tqdm\n"
     ]
    }
   ],
   "source": [
    "from transformers import pipeline"
   ]
  },
  {
   "cell_type": "code",
   "execution_count": 2,
   "id": "35d519a7",
   "metadata": {},
   "outputs": [
    {
     "name": "stderr",
     "output_type": "stream",
     "text": [
      "c:\\Users\\lucas\\AppData\\Local\\Programs\\Python\\Python313\\Lib\\site-packages\\huggingface_hub\\file_download.py:144: UserWarning: `huggingface_hub` cache-system uses symlinks by default to efficiently store duplicated files but your machine does not support them in C:\\Users\\lucas\\.cache\\huggingface\\hub\\models--neuralmind--bert-base-portuguese-cased. Caching files will still work but in a degraded version that might require more space on your disk. This warning can be disabled by setting the `HF_HUB_DISABLE_SYMLINKS_WARNING` environment variable. For more details, see https://huggingface.co/docs/huggingface_hub/how-to-cache#limitations.\n",
      "To support symlinks on Windows, you either need to activate Developer Mode or to run Python as an administrator. In order to activate developer mode, see this article: https://docs.microsoft.com/en-us/windows/apps/get-started/enable-your-device-for-development\n",
      "  warnings.warn(message)\n",
      "Some weights of BertForQuestionAnswering were not initialized from the model checkpoint at neuralmind/bert-base-portuguese-cased and are newly initialized: ['qa_outputs.bias', 'qa_outputs.weight']\n",
      "You should probably TRAIN this model on a down-stream task to be able to use it for predictions and inference.\n",
      "Device set to use cpu\n"
     ]
    }
   ],
   "source": [
    "# Carregar modelo BERTimbau pré-treinado para Q&A\n",
    "qa_pipeline = pipeline(\n",
    "    \"question-answering\",\n",
    "    model=\"neuralmind/bert-base-portuguese-cased\",\n",
    "    tokenizer=\"neuralmind/bert-base-portuguese-cased\"\n",
    ")"
   ]
  },
  {
   "cell_type": "code",
   "execution_count": 5,
   "id": "d2958f7e",
   "metadata": {},
   "outputs": [
    {
     "name": "stderr",
     "output_type": "stream",
     "text": [
      "CropBox missing from /Page, defaulting to MediaBox\n",
      "CropBox missing from /Page, defaulting to MediaBox\n"
     ]
    }
   ],
   "source": [
    "# Exemplo com documento longo\n",
    "import pdfplumber\n",
    "with pdfplumber.open(\"arquivo.pdf\") as pdf:\n",
    "    documento = \" \".join([page.extract_text() for page in pdf.pages])  # Seu documento aqui\n",
    "pergunta = \"Qual é o tema principal?\""
   ]
  },
  {
   "cell_type": "code",
   "execution_count": 6,
   "id": "36fdb735",
   "metadata": {},
   "outputs": [],
   "source": [
    "# Dividir o documento em chunks (exemplo simplificado)\n",
    "chunks = [documento[i:i+512] for i in range(0, len(documento), 400)]  # Overlap de 112 tokens"
   ]
  },
  {
   "cell_type": "code",
   "execution_count": 7,
   "id": "1e8bafef",
   "metadata": {},
   "outputs": [],
   "source": [
    "respostas = []\n",
    "for chunk in chunks:\n",
    "    resposta = qa_pipeline(question=pergunta, context=chunk)\n",
    "    respostas.append(resposta)"
   ]
  },
  {
   "cell_type": "code",
   "execution_count": 8,
   "id": "db724b0d",
   "metadata": {},
   "outputs": [
    {
     "name": "stdout",
     "output_type": "stream",
     "text": [
      "{'score': 0.0002848559233825654, 'start': 247, 'end': 295, 'answer': 'achieving a\\njust and inclusive energy transition'}\n"
     ]
    }
   ],
   "source": [
    "# Selecionar a resposta com maior score\n",
    "melhor_resposta = max(respostas, key=lambda x: x['score'])\n",
    "print(melhor_resposta)"
   ]
  }
 ],
 "metadata": {
  "kernelspec": {
   "display_name": "Python 3",
   "language": "python",
   "name": "python3"
  },
  "language_info": {
   "codemirror_mode": {
    "name": "ipython",
    "version": 3
   },
   "file_extension": ".py",
   "mimetype": "text/x-python",
   "name": "python",
   "nbconvert_exporter": "python",
   "pygments_lexer": "ipython3",
   "version": "3.13.3"
  }
 },
 "nbformat": 4,
 "nbformat_minor": 5
}
