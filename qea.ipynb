{
 "cells": [
  {
   "cell_type": "code",
   "execution_count": null,
   "id": "0f4006b8",
   "metadata": {},
   "outputs": [],
   "source": [
    "# import torch\n",
    "# print(f\"\\n🔍 PyTorch: {torch.__version__}\")\n",
    "# print(f\"🔍 GPU: {torch.cuda.is_available()}\")\n",
    "# print(f\"🔍 Nome da GPU: {torch.cuda.get_device_name(0)}\")\n",
    "\n",
    "# # Nova forma de verificar ROCm a partir do PyTorch 2.0+\n",
    "# print(f\"🔍 Backend GPU: {'ROCm' if torch.version.hip else 'CUDA'}\")\n",
    "# print(f\"🔍 Versão HIP: {torch.version.hip}\\n\")"
   ]
  },
  {
   "cell_type": "code",
   "execution_count": 7,
   "id": "f91517be",
   "metadata": {},
   "outputs": [],
   "source": [
    "from transformers import pipeline\n",
    "import torch\n",
    "import pdfplumber"
   ]
  },
  {
   "cell_type": "code",
   "execution_count": 8,
   "id": "8f0def06",
   "metadata": {},
   "outputs": [
    {
     "name": "stdout",
     "output_type": "stream",
     "text": [
      "🔧 Rodando em: GPU\n"
     ]
    }
   ],
   "source": [
    "# Verifica e configura o dispositivo (GPU/CPU)\n",
    "device = 0 if torch.cuda.is_available() else -1  # 0 = GPU, -1 = CPU\n",
    "print(f\"🔧 Rodando em: {'GPU' if device == 0 else 'CPU'}\")"
   ]
  },
  {
   "cell_type": "code",
   "execution_count": 10,
   "id": "35d519a7",
   "metadata": {},
   "outputs": [
    {
     "name": "stderr",
     "output_type": "stream",
     "text": [
      "Some weights of BertForQuestionAnswering were not initialized from the model checkpoint at neuralmind/bert-base-portuguese-cased and are newly initialized: ['qa_outputs.bias', 'qa_outputs.weight']\n",
      "You should probably TRAIN this model on a down-stream task to be able to use it for predictions and inference.\n",
      "Device set to use cuda:0\n"
     ]
    }
   ],
   "source": [
    "# Carregar modelo BERTimbau pré-treinado para Q&A\n",
    "qa_pipeline = pipeline(\n",
    "    \"question-answering\",\n",
    "    model=\"neuralmind/bert-base-portuguese-cased\",\n",
    "    tokenizer=\"neuralmind/bert-base-portuguese-cased\",\n",
    "    device = device\n",
    ")"
   ]
  },
  {
   "cell_type": "code",
   "execution_count": 11,
   "id": "d2958f7e",
   "metadata": {},
   "outputs": [
    {
     "name": "stderr",
     "output_type": "stream",
     "text": [
      "CropBox missing from /Page, defaulting to MediaBox\n",
      "CropBox missing from /Page, defaulting to MediaBox\n"
     ]
    }
   ],
   "source": [
    "# Exemplo com documento longo\n",
    "with pdfplumber.open(\"arquivo.pdf\") as pdf:\n",
    "    documento = \" \".join([page.extract_text() for page in pdf.pages])  # Seu documento aqui\n",
    "pergunta = \"Qual é o tema principal?\""
   ]
  },
  {
   "cell_type": "code",
   "execution_count": 12,
   "id": "36fdb735",
   "metadata": {},
   "outputs": [],
   "source": [
    "# Dividir o documento em chunks (exemplo simplificado)\n",
    "chunks = [documento[i:i+400] for i in range(0, len(documento), 300)]  # Overlap de 112 tokens"
   ]
  },
  {
   "cell_type": "code",
   "execution_count": 13,
   "id": "1e8bafef",
   "metadata": {},
   "outputs": [],
   "source": [
    "respostas = []\n",
    "for chunk in chunks:\n",
    "    resposta = qa_pipeline(question=pergunta, context=chunk)\n",
    "    respostas.append(resposta)"
   ]
  },
  {
   "cell_type": "code",
   "execution_count": 14,
   "id": "db724b0d",
   "metadata": {},
   "outputs": [
    {
     "name": "stdout",
     "output_type": "stream",
     "text": [
      "{'score': 0.0006417880649678409, 'start': 56, 'end': 62, 'answer': '-scale'}\n"
     ]
    }
   ],
   "source": [
    "# Selecionar a resposta com maior score\n",
    "melhor_resposta = max(respostas, key=lambda x: x['score'])\n",
    "print(melhor_resposta)"
   ]
  }
 ],
 "metadata": {
  "kernelspec": {
   "display_name": "venv_rocm",
   "language": "python",
   "name": "python3"
  },
  "language_info": {
   "codemirror_mode": {
    "name": "ipython",
    "version": 3
   },
   "file_extension": ".py",
   "mimetype": "text/x-python",
   "name": "python",
   "nbconvert_exporter": "python",
   "pygments_lexer": "ipython3",
   "version": "3.12.3"
  }
 },
 "nbformat": 4,
 "nbformat_minor": 5
}
